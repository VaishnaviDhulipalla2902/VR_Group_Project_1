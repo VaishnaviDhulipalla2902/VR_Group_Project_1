{
  "nbformat": 4,
  "nbformat_minor": 0,
  "metadata": {
    "colab": {
      "name": "VLADvsBoVW.ipynb",
      "provenance": [],
      "collapsed_sections": [],
      "machine_shape": "hm"
    },
    "kernelspec": {
      "name": "python3",
      "display_name": "Python 3"
    },
    "accelerator": "GPU"
  },
  "cells": [
    {
      "cell_type": "markdown",
      "metadata": {
        "id": "AG3oQ-nZSqx5",
        "colab_type": "text"
      },
      "source": [
        "# Importing Required Libraries"
      ]
    },
    {
      "cell_type": "code",
      "metadata": {
        "id": "DqrTGgHtC1ck",
        "colab_type": "code",
        "outputId": "0de09898-8016-4637-d252-4c6e22fde866",
        "colab": {
          "base_uri": "https://localhost:8080/",
          "height": 69
        }
      },
      "source": [
        "import keras\n",
        "from keras.datasets import cifar10\n",
        "import numpy as np \n",
        "from sklearn.cluster import KMeans, MiniBatchKMeans\n",
        "from sklearn.metrics import accuracy_score\n",
        "import pickle\n",
        "!pip install opencv-contrib-python==3.4.2.17\n",
        "import cv2\n",
        "from sklearn.preprocessing import StandardScaler \n",
        "from sklearn.decomposition import PCA\n",
        "import matplotlib.pyplot as plt\n",
        "from sklearn.neighbors import KNeighborsClassifier\n",
        "from sklearn import svm"
      ],
      "execution_count": 2,
      "outputs": [
        {
          "output_type": "stream",
          "text": [
            "Using TensorFlow backend.\n"
          ],
          "name": "stderr"
        },
        {
          "output_type": "stream",
          "text": [
            "Requirement already satisfied: opencv-contrib-python==3.4.2.17 in /usr/local/lib/python3.6/dist-packages (3.4.2.17)\n",
            "Requirement already satisfied: numpy>=1.11.3 in /usr/local/lib/python3.6/dist-packages (from opencv-contrib-python==3.4.2.17) (1.18.2)\n"
          ],
          "name": "stdout"
        }
      ]
    },
    {
      "cell_type": "markdown",
      "metadata": {
        "id": "0-7f4iW7S9RU",
        "colab_type": "text"
      },
      "source": [
        "# Our Functions To Load The CIFAR10 Dataset\n"
      ]
    },
    {
      "cell_type": "code",
      "metadata": {
        "id": "PDhf-_4ovVWI",
        "colab_type": "code",
        "colab": {}
      },
      "source": [
        "def load_cfar10_train(path, batch_id):\n",
        "    with open(path + '/data_batch_' + str(batch_id), mode='rb') as file:\n",
        "        batch = pickle.load(file, encoding='latin1')\n",
        "        \n",
        "    features = batch['data'].reshape((len(batch['data']), 3, 32, 32)).transpose(0, 2, 3, 1)\n",
        "    labels = batch['labels']\n",
        "        \n",
        "    return features, labels\n",
        "\n",
        "def load_cfar10_test(path):\n",
        "    with open(path + '/test_batch', mode='rb') as file:\n",
        "        batch = pickle.load(file, encoding='latin1')\n",
        "\n",
        "    features = batch['data'].reshape((len(batch['data']), 3, 32, 32)).transpose(0, 2, 3, 1)\n",
        "    labels = batch['labels']\n",
        "        \n",
        "    return features, labels"
      ],
      "execution_count": 0,
      "outputs": []
    },
    {
      "cell_type": "code",
      "metadata": {
        "id": "AHvJ6SKyvWY0",
        "colab_type": "code",
        "colab": {}
      },
      "source": [
        "# print(\"Loading Training Dataset.\")\n",
        "# images_train = []\n",
        "# labels_train = []\n",
        "\n",
        "# for i in range(1,6):\n",
        "#     features_part_train, labels_part_train = load_cfar10_train(\"../CIFAR10\", i)\n",
        "#     images_train.extend(features_part_train)\n",
        "#     labels_train.extend(labels_part_train)\n",
        "#     print(\"Loaded batch\", i)\n",
        "\n",
        "# images_train = np.array(images_train)\n",
        "# labels_train = np.array(labels_train)"
      ],
      "execution_count": 0,
      "outputs": []
    },
    {
      "cell_type": "markdown",
      "metadata": {
        "id": "yHEJEaLITMSb",
        "colab_type": "text"
      },
      "source": [
        "# Using keras.datasets To Load CIFAR10 Dataset"
      ]
    },
    {
      "cell_type": "code",
      "metadata": {
        "id": "pVW8A1--DDMc",
        "colab_type": "code",
        "colab": {}
      },
      "source": [
        "(x_train, y_train), (x_test, y_test) = cifar10.load_data()"
      ],
      "execution_count": 0,
      "outputs": []
    },
    {
      "cell_type": "code",
      "metadata": {
        "id": "n4O6Ud2RDK1r",
        "colab_type": "code",
        "colab": {}
      },
      "source": [
        "images_train = x_train\n",
        "labels_train = y_train\n",
        "images_test = x_test\n",
        "labels_test = y_test"
      ],
      "execution_count": 0,
      "outputs": []
    },
    {
      "cell_type": "markdown",
      "metadata": {
        "id": "d7vRBWk-TXrI",
        "colab_type": "text"
      },
      "source": [
        "# Plotting Images "
      ]
    },
    {
      "cell_type": "code",
      "metadata": {
        "id": "gHRKyD5_DoOQ",
        "colab_type": "code",
        "outputId": "8dcb7858-75b5-4f89-e79d-2d7537d7c107",
        "colab": {
          "base_uri": "https://localhost:8080/",
          "height": 252
        }
      },
      "source": [
        "side = 5\n",
        "frame, sub_image = plt.subplots(side, side)\n",
        "for m in range(side):\n",
        "    for n in range(side):\n",
        "        idx = np.random.randint(0, images_train.shape[0])\n",
        "        sub_image[m, n].imshow(images_train[idx])\n",
        "        sub_image[m, n].get_xaxis().set_visible(False)\n",
        "        sub_image[m, n].get_yaxis().set_visible(False)\n",
        "frame.subplots_adjust(hspace=0.1)\n",
        "frame.subplots_adjust(wspace=0)\n",
        "plt.show()"
      ],
      "execution_count": 6,
      "outputs": [
        {
          "output_type": "display_data",
          "data": {
            "image/png": "[encoded data removed]",
            "text/plain": [
              "<Figure size 432x288 with 25 Axes>"
            ]
          },
          "metadata": {
            "tags": []
          }
        }
      ]
    },
    {
      "cell_type": "markdown",
      "metadata": {
        "id": "nZWPrcAmTeFP",
        "colab_type": "text"
      },
      "source": [
        "# Pre-Processing Images"
      ]
    },
    {
      "cell_type": "code",
      "metadata": {
        "id": "L_2zyggQEe9k",
        "colab_type": "code",
        "colab": {}
      },
      "source": [
        "def cvtToGray(image):\n",
        "    gray = cv2.cvtColor(image, cv2.COLOR_BGR2GRAY)\n",
        "    resized_image = cv2.resize(gray, (150, 150), interpolation=cv2.INTER_AREA) \n",
        "    return resized_image\n"
      ],
      "execution_count": 0,
      "outputs": []
    },
    {
      "cell_type": "markdown",
      "metadata": {
        "id": "XcNRyh60Thx-",
        "colab_type": "text"
      },
      "source": [
        "# Functions To Generate SIFT Descriptors"
      ]
    },
    {
      "cell_type": "code",
      "metadata": {
        "id": "DEmhFseJEC_K",
        "colab_type": "code",
        "colab": {}
      },
      "source": [
        "def extractSIFTIndividual(image):\n",
        "    sift = cv2.xfeatures2d.SIFT_create()\n",
        "    _, desc = sift.detectAndCompute(image,None)\n",
        "    return desc\n",
        "\n",
        "def extractSIFTFeatures(image_list, iLabels):\n",
        "    length = len(image_list)\n",
        "    count = 0\n",
        "\n",
        "    featuresBeforeClustering = []\n",
        "    unconcatenatedDescriptors = []\n",
        "    labels = []  \n",
        "    for image in image_list:\n",
        "        progress_percent = (count/length)*100\n",
        "        print (\"count =\", count)\n",
        "        print (\"Length =\", length)\n",
        "        print('SIFT Extraction Progress: %6.2f%%'%(progress_percent),end='\\r')\n",
        "        \n",
        "        image = cvtToGray(image)\n",
        "        desc = extractSIFTIndividual(image)\n",
        "\n",
        "        if desc is not None:\n",
        "            unconcatenatedDescriptors.append(desc)\n",
        "            labels.append(iLabels[count])\n",
        "        count += 1\n",
        "    featuresBeforeClustering = np.concatenate(unconcatenatedDescriptors, axis=0)\n",
        "    print ('SIFT extraction done!')\n",
        "    \n",
        "    return featuresBeforeClustering, unconcatenatedDescriptors, labels"
      ],
      "execution_count": 0,
      "outputs": []
    },
    {
      "cell_type": "markdown",
      "metadata": {
        "id": "NfYbY-2KTpI1",
        "colab_type": "text"
      },
      "source": [
        "# Function To Generate KMeans Model"
      ]
    },
    {
      "cell_type": "code",
      "metadata": {
        "id": "CX4nSB_4EhwO",
        "colab_type": "code",
        "colab": {}
      },
      "source": [
        "def kMeans(features):\n",
        "    print(\"KMeans clustering begins.\")\n",
        "\n",
        "    result = MiniBatchKMeans(init='k-means++', n_clusters=64,max_iter=1000, batch_size=1000, n_init=10, max_no_improvement=10, verbose=0).fit(features)\n",
        "\n",
        "    print(\"KMeans clustering ends.\")\n",
        "    return result"
      ],
      "execution_count": 0,
      "outputs": []
    },
    {
      "cell_type": "markdown",
      "metadata": {
        "id": "2_c8hQ66TuP_",
        "colab_type": "text"
      },
      "source": [
        "# Function To Aggreagate Descriptors And Form Histograms"
      ]
    },
    {
      "cell_type": "code",
      "metadata": {
        "id": "5nadFERVcod_",
        "colab_type": "code",
        "colab": {}
      },
      "source": [
        "def aggregateDescriptors(descriptorsSIFT, model):\n",
        "    histogram = []\n",
        "    length = len(descriptorsSIFT)\n",
        "\n",
        "    for i in range(length):\n",
        "        predictedLabels = model.predict(descriptorsSIFT[i])\n",
        "        hist, _ = np.histogram(predictedLabels, bins = 10)\n",
        "        histogram.append(hist)\n",
        "\n",
        "    histogram = np.asarray(histogram)\n",
        "    histogram = np.array(histogram)\n",
        "\n",
        "    return histogram"
      ],
      "execution_count": 0,
      "outputs": []
    },
    {
      "cell_type": "markdown",
      "metadata": {
        "id": "O0yUWqK6T1cM",
        "colab_type": "text"
      },
      "source": [
        "# Functions To Generate VLAD Descriptors"
      ]
    },
    {
      "cell_type": "code",
      "metadata": {
        "id": "g9IYdqFlEknK",
        "colab_type": "code",
        "colab": {}
      },
      "source": [
        "def genVLADIndividual(image, k_means_model):\n",
        "    \n",
        "    predictedLabels = k_means_model.predict(image)\n",
        "    clusterCenters = k_means_model.cluster_centers_\n",
        "    numClusters = k_means_model.n_clusters\n",
        "    \n",
        "    r,d = image.shape\n",
        "    result = np.zeros([numClusters,d])\n",
        "    \n",
        "    for i in range(numClusters):\n",
        "        progress_percent = (i/numClusters)*100\n",
        "        \n",
        "        # If there is atleast one descriptor for the current predicted label, it's difference with the corresponding cluster center is taken\n",
        "        if (np.sum(predictedLabels == i) > 0):\n",
        "            result[i] = np.sum(image[predictedLabels == i, :] - clusterCenters[i], axis=0)\n",
        "    result = result.flatten()\n",
        "\n",
        "    # Power normalization\n",
        "    \n",
        "    result = np.sign(result)*np.sqrt(np.abs(result))\n",
        "\n",
        "    # L2 normalization\n",
        "\n",
        "    result = result/np.sqrt(np.dot(result,result))\n",
        "    return result\n",
        "\n",
        "def genVLADFeatures(images, iLabels, model):\n",
        "    descriptors = []\n",
        "    labels = []\n",
        "    length = len(images)\n",
        "    \n",
        "    count = 0\n",
        "    for image in images:\n",
        "        progress_percent = (count/length)*100\n",
        "        print('VLAD Generation Progress: %6.2f%%'%(progress_percent))\n",
        "        \n",
        "        image = cvtToGray(image)\n",
        "        des = extractSIFTIndividual(image)\n",
        "        \n",
        "        if des is not None:\n",
        "            vDes = genVLADIndividual(des, model)\n",
        "            descriptors.append(vDes)\n",
        "            labels.append(iLabels[count])\n",
        "        count += 1\n",
        "            \n",
        "    descriptors = np.asarray(descriptors)\n",
        "    return descriptors,labels"
      ],
      "execution_count": 0,
      "outputs": []
    },
    {
      "cell_type": "markdown",
      "metadata": {
        "id": "xgUFi38OURaq",
        "colab_type": "text"
      },
      "source": [
        "# BoVW Approach"
      ]
    },
    {
      "cell_type": "markdown",
      "metadata": {
        "id": "1GSA9SqcUVia",
        "colab_type": "text"
      },
      "source": [
        "## Generating SIFT Features"
      ]
    },
    {
      "cell_type": "code",
      "metadata": {
        "id": "qugFCykYEsTP",
        "colab_type": "code",
        "colab": {}
      },
      "source": [
        "features,unconcatenated_descriptors,labels = extractSIFTFeatures(images_train, labels_train)"
      ],
      "execution_count": 0,
      "outputs": []
    },
    {
      "cell_type": "code",
      "metadata": {
        "id": "D-ud4O2movUv",
        "colab_type": "code",
        "colab": {}
      },
      "source": [
        "features_test,unconcatenated_descriptors_test,labels_test_hist = extractSIFTFeatures(images_test, labels_test)"
      ],
      "execution_count": 0,
      "outputs": []
    },
    {
      "cell_type": "markdown",
      "metadata": {
        "id": "OnWf3VEAUbpG",
        "colab_type": "text"
      },
      "source": [
        "## Generating KMeans Model"
      ]
    },
    {
      "cell_type": "code",
      "metadata": {
        "id": "HiV9HjimEtFP",
        "colab_type": "code",
        "outputId": "c42f0777-0e61-4385-c37b-5231e9ea99c3",
        "colab": {
          "base_uri": "https://localhost:8080/",
          "height": 52
        }
      },
      "source": [
        "model_mini_kmeans = kMeans(features)"
      ],
      "execution_count": 14,
      "outputs": [
        {
          "output_type": "stream",
          "text": [
            "KMeans clustering begins.\n",
            "KMeans clustering ends.\n"
          ],
          "name": "stdout"
        }
      ]
    },
    {
      "cell_type": "markdown",
      "metadata": {
        "id": "pMp9quotUfaH",
        "colab_type": "text"
      },
      "source": [
        "## Forming Histograms"
      ]
    },
    {
      "cell_type": "code",
      "metadata": {
        "id": "kQslWtihoHGU",
        "colab_type": "code",
        "colab": {}
      },
      "source": [
        "X_train_hist = aggregateDescriptors(unconcatenated_descriptors, model_mini_kmeans)\n",
        "X_test_hist = aggregateDescriptors(unconcatenated_descriptors_test, model_mini_kmeans)"
      ],
      "execution_count": 0,
      "outputs": []
    },
    {
      "cell_type": "markdown",
      "metadata": {
        "id": "f4nTsAjZUBIx",
        "colab_type": "text"
      },
      "source": [
        "## Performing PCA"
      ]
    },
    {
      "cell_type": "code",
      "metadata": {
        "id": "CrQqbXMOpzWv",
        "colab_type": "code",
        "colab": {}
      },
      "source": [
        "sc = StandardScaler() \n",
        "pca = PCA(n_components = 0.9) \n",
        "\n",
        "X_train = sc.fit_transform(X_train_hist) \n",
        "X_test = sc.transform(X_test_hist) \n",
        "X_train = pca.fit_transform(X_train_hist) \n",
        "X_test = pca.transform(X_test_hist)"
      ],
      "execution_count": 0,
      "outputs": []
    },
    {
      "cell_type": "markdown",
      "metadata": {
        "id": "gbhpE5nAUEdj",
        "colab_type": "text"
      },
      "source": [
        "## Training, Making Predictions And Obtaining Accuracy Score"
      ]
    },
    {
      "cell_type": "code",
      "metadata": {
        "id": "7jUbyMQaqBpo",
        "colab_type": "code",
        "colab": {}
      },
      "source": [
        "model = svm.LinearSVC(multi_class='ovr')\n",
        "model.fit(X_train_hist,labels)\n",
        "\n",
        "Y_pred = model.predict(X_test_hist)\n",
        "acc = accuracy_score(labels_test_hist, Y_pred)\n",
        "print (acc)"
      ],
      "execution_count": 0,
      "outputs": []
    },
    {
      "cell_type": "markdown",
      "metadata": {
        "id": "m2ZfMju1UrEv",
        "colab_type": "text"
      },
      "source": [
        "# VLAD Approach"
      ]
    },
    {
      "cell_type": "markdown",
      "metadata": {
        "id": "iQ5k-CoCUth8",
        "colab_type": "text"
      },
      "source": [
        "## Generating VLADs"
      ]
    },
    {
      "cell_type": "code",
      "metadata": {
        "id": "xjgLipqcEywr",
        "colab_type": "code",
        "colab": {}
      },
      "source": [
        "VLAD_features, VLAD_labels = genVLADFeatures(images_train,labels_train, model_mini_kmeans)"
      ],
      "execution_count": 0,
      "outputs": []
    },
    {
      "cell_type": "code",
      "metadata": {
        "id": "Q23eGQOZE7ue",
        "colab_type": "code",
        "colab": {}
      },
      "source": [
        "VLAD_features_test, VLAD_labels_test = genVLADFeatures(images_test, labels_test,model_mini_kmeans)"
      ],
      "execution_count": 0,
      "outputs": []
    },
    {
      "cell_type": "code",
      "metadata": {
        "id": "b4NrL-CAE8rs",
        "colab_type": "code",
        "colab": {}
      },
      "source": [
        "X_train = VLAD_features\n",
        "Y_train = VLAD_labels\n",
        "\n",
        "X_test = VLAD_features_test\n",
        "Y_test = VLAD_labels_test"
      ],
      "execution_count": 0,
      "outputs": []
    },
    {
      "cell_type": "markdown",
      "metadata": {
        "id": "7YY6-aOVU5uG",
        "colab_type": "text"
      },
      "source": [
        "## Performing PCA"
      ]
    },
    {
      "cell_type": "code",
      "metadata": {
        "id": "KvpfWLmjFB2N",
        "colab_type": "code",
        "colab": {}
      },
      "source": [
        "sc = StandardScaler() \n",
        "pca = PCA(n_components = 0.9) \n",
        "\n",
        "X_train = sc.fit_transform(X_train) \n",
        "X_test = sc.transform(X_test) \n",
        "X_train = pca.fit_transform(X_train) \n",
        "X_test = pca.transform(X_test)"
      ],
      "execution_count": 0,
      "outputs": []
    },
    {
      "cell_type": "markdown",
      "metadata": {
        "id": "utIzKILbU-RU",
        "colab_type": "text"
      },
      "source": [
        "## Training, Making Predictions And Obtaining Accuracy Score"
      ]
    },
    {
      "cell_type": "code",
      "metadata": {
        "id": "-D34r43SFFGD",
        "colab_type": "code",
        "colab": {}
      },
      "source": [
        "model = svm.LinearSVC(multi_class='ovr')\n",
        "model.fit(X_train,Y_train)\n",
        "\n",
        "Y_pred = model.predict(X_test)\n",
        "acc = accuracy_score(Y_test, Y_pred)\n",
        "print (acc)"
      ],
      "execution_count": 0,
      "outputs": []
    }
  ]
}